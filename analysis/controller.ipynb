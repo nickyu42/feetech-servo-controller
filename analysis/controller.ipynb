{
 "cells": [
  {
   "cell_type": "code",
   "execution_count": 1,
   "id": "f62e8324",
   "metadata": {},
   "outputs": [],
   "source": [
    "import pandas as pd\n",
    "from rshell import pyboard"
   ]
  },
  {
   "cell_type": "code",
   "execution_count": 2,
   "id": "a6bf759d",
   "metadata": {},
   "outputs": [
    {
     "data": {
      "text/plain": [
       "<Axes: >"
      ]
     },
     "execution_count": 2,
     "metadata": {},
     "output_type": "execute_result"
    },
    {
     "data": {
      "image/png": "[encoded data removed]",
      "text/plain": [
       "<Figure size 640x480 with 1 Axes>"
      ]
     },
     "metadata": {},
     "output_type": "display_data"
    }
   ],
   "source": [
    "df = pd.read_csv('data.csv', names=('target', 'angle', 'error', 'gain'))\n",
    "df[['target', 'angle']][:2500].plot()"
   ]
  },
  {
   "cell_type": "code",
   "execution_count": 50,
   "id": "421e33a1",
   "metadata": {},
   "outputs": [
    {
     "name": "stdout",
     "output_type": "stream",
     "text": [
      "Overwriting servo_controller.py\n"
     ]
    }
   ],
   "source": [
    "%%writefile servo_controller.py\n",
    "import time\n",
    "from machine import Pin, PWM, SPI\n",
    "\n",
    "cs = Pin(5, mode=Pin.OUT, value=1)\n",
    "spi = SPI(0, baudrate=1_000_000, sck=Pin(6), mosi=Pin(7), miso=Pin(4), firstbit=SPI.MSB)\n",
    "\n",
    "motor_a = PWM(Pin(16, mode=Pin.OPEN_DRAIN, value=1))\n",
    "motor_b = PWM(Pin(17, mode=Pin.OPEN_DRAIN, value=1))\n",
    "\n",
    "motor_a.duty_u16(0)\n",
    "motor_b.duty_u16(0)\n",
    "\n",
    "\n",
    "def decode_angle(data):\n",
    "    \n",
    "    raw_data = (data[0] << 6) | (data[1] >> 2)\n",
    "    angle_norm = (raw_data / 8192) - 1\n",
    "    angle_degr = angle_norm * 360\n",
    "    \n",
    "    status_bits = (data[1] & 0b11) | (data[2] >> 6)\n",
    "    crc = data[2] & 0b111111\n",
    "    \n",
    "    status_str = 'loss_track ' if status_bits & 0b1000 else '- '\n",
    "    status_str += 'push ' if status_bits & 0b100 else 'no_push '\n",
    "    \n",
    "    if status_bits & 0b11 == 0:\n",
    "        status_str += 'normal'\n",
    "    elif status_bits & 0b11 == 1:\n",
    "        status_str += 'strong'\n",
    "    elif status_bits & 0b11 == 2:\n",
    "        status_str += 'weak'\n",
    "    else:\n",
    "        status_str += '-'\n",
    "    \n",
    "    return angle_degr, status_bits, status_str, crc\n",
    "\n",
    "\n",
    "def get_angle():\n",
    "    cs.off()\n",
    "    data = spi.read(3)\n",
    "    cs.on()\n",
    "    \n",
    "    angle, _, _, _ = decode_angle(data)\n",
    "    return angle\n",
    "\n",
    "\n",
    "def shortest_angle(current_angle, target_angle):\n",
    "    return (target_angle - current_angle + 540) % 360 - 180\n",
    "\n",
    "\n",
    "def set_move_ccw(gain):\n",
    "    motor_a.duty_u16(gain)\n",
    "    motor_b.duty_u16(0)\n",
    "    \n",
    "\n",
    "def set_move_cw(gain):\n",
    "    motor_a.duty_u16(0)\n",
    "    motor_b.duty_u16(gain)\n",
    "    \n",
    "\n",
    "def set_no_move():\n",
    "    motor_a.duty_u16(0)\n",
    "    motor_b.duty_u16(0)\n",
    "    \n",
    "\n",
    "# Move to start\n",
    "while get_angle() > 0.5:\n",
    "    set_move_ccw(20_000)\n",
    "    \n",
    "set_no_move()\n",
    "\n",
    "time.sleep_ms(500)\n",
    "\n",
    "initial_deadline = time.ticks_add(time.ticks_ms(), 2500)\n",
    "deadline = time.ticks_add(time.ticks_ms(), 6000)\n",
    "\n",
    "target = 45\n",
    "\n",
    "dt_us = 100\n",
    "dt_s = dt_us / 1_000_000\n",
    "\n",
    "prev_error = 0\n",
    "    \n",
    "while True:\n",
    "    if time.ticks_diff(deadline, time.ticks_ms()) <= 0:\n",
    "        break\n",
    "        \n",
    "    if time.ticks_diff(initial_deadline, time.ticks_ms()) <= 0:\n",
    "        target = 180\n",
    "    \n",
    "    angle = get_angle()\n",
    "    \n",
    "    error = shortest_angle(angle, target)\n",
    "    error_norm = (abs(error) / 360)\n",
    "    \n",
    "    error_delta = (error_norm - prev_error) / dt_s\n",
    "    prev_error = error_norm\n",
    "    \n",
    "    Kp = 2\n",
    "    Kd = 0.005\n",
    "    \n",
    "    if abs(target - angle) > 0.5:\n",
    "        gain = 0.25 + Kp*error_norm + Kd*error_delta\n",
    "        if gain >= 1:\n",
    "            gain = 1\n",
    "        \n",
    "        duty_u16 = int(gain * 65535)\n",
    "        \n",
    "        if error > 0:\n",
    "            set_move_ccw(duty_u16)\n",
    "        else:\n",
    "            set_move_cw(duty_u16)\n",
    "    else:\n",
    "        set_no_move()\n",
    "        \n",
    "    print(f'{target},{angle},{error},{gain}')\n",
    "    \n",
    "    time.sleep_us(dt_us)"
   ]
  },
  {
   "cell_type": "code",
   "execution_count": 51,
   "id": "258a9477",
   "metadata": {},
   "outputs": [],
   "source": [
    "pyb = pyboard.Pyboard('/dev/tty.usbmodem1101')\n",
    "pyb.enter_raw_repl()\n",
    "\n",
    "output = pyb.execfile('servo_controller.py')\n",
    "\n",
    "pyb.exit_raw_repl()\n",
    "pyb.close()"
   ]
  },
  {
   "cell_type": "code",
   "execution_count": 52,
   "id": "198dbe04",
   "metadata": {},
   "outputs": [
    {
     "data": {
      "text/plain": [
       "Text(0, 0.5, 'Angle (degrees)')"
      ]
     },
     "execution_count": 52,
     "metadata": {},
     "output_type": "execute_result"
    },
    {
     "data": {
      "image/png": "[encoded data removed]",
      "text/plain": [
       "<Figure size 640x480 with 1 Axes>"
      ]
     },
     "metadata": {},
     "output_type": "display_data"
    }
   ],
   "source": [
    "%matplotlib inline\n",
    "\n",
    "import csv\n",
    "import numpy as np\n",
    "import matplotlib.pyplot as plt\n",
    "\n",
    "target = []\n",
    "angle = []\n",
    "error = []\n",
    "gain = []\n",
    "\n",
    "for row in output.decode('utf-8').split('\\r\\n')[:-1]:\n",
    "    values = row.split(',')\n",
    "    target.append(float(values[0]))\n",
    "    angle.append(float(values[1]))\n",
    "    error.append(float(values[2]))\n",
    "    gain.append(float(values[3]))\n",
    "\n",
    "x = np.linspace(0, 3, len(target))\n",
    "    \n",
    "fig, ax = plt.subplots()\n",
    "ax.plot(x, angle)\n",
    "ax.plot(x, target)\n",
    "\n",
    "ax.set_xlabel('Time (s)')\n",
    "ax.set_ylabel('Angle (degrees)')"
   ]
  },
  {
   "cell_type": "code",
   "execution_count": 63,
   "id": "409d63f4",
   "metadata": {},
   "outputs": [
    {
     "name": "stdout",
     "output_type": "stream",
     "text": [
      "Overwriting servo_controller.py\n"
     ]
    }
   ],
   "source": [
    "%%writefile servo_controller.py\n",
    "import time\n",
    "from machine import Pin, PWM, SPI\n",
    "\n",
    "cs = Pin(5, mode=Pin.OUT, value=1)\n",
    "spi = SPI(0, baudrate=1_000_000, sck=Pin(6), mosi=Pin(7), miso=Pin(4), firstbit=SPI.MSB)\n",
    "\n",
    "motor_a = PWM(Pin(16, mode=Pin.OPEN_DRAIN, value=1))\n",
    "motor_b = PWM(Pin(17, mode=Pin.OPEN_DRAIN, value=1))\n",
    "\n",
    "motor_a.duty_u16(0)\n",
    "motor_b.duty_u16(0)\n",
    "\n",
    "\n",
    "def decode_angle(data):\n",
    "    raw_data = (data[0] << 6) | (data[1] >> 2)\n",
    "    angle_norm = (raw_data / 8192) - 1\n",
    "    angle_degr = angle_norm * 360\n",
    "    \n",
    "    status_bits = (data[1] & 0b11) | (data[2] >> 6)\n",
    "    crc = data[2] & 0b111111\n",
    "    \n",
    "    status_str = 'loss_track ' if status_bits & 0b1000 else '- '\n",
    "    status_str += 'push ' if status_bits & 0b100 else 'no_push '\n",
    "    \n",
    "    if status_bits & 0b11 == 0:\n",
    "        status_str += 'normal'\n",
    "    elif status_bits & 0b11 == 1:\n",
    "        status_str += 'strong'\n",
    "    elif status_bits & 0b11 == 2:\n",
    "        status_str += 'weak'\n",
    "    else:\n",
    "        status_str += '-'\n",
    "    \n",
    "    return angle_degr, status_bits, status_str, crc\n",
    "\n",
    "\n",
    "def get_angle():\n",
    "    cs.off()\n",
    "    data = spi.read(3)\n",
    "    cs.on()\n",
    "    \n",
    "    angle, _, _, _ = decode_angle(data)\n",
    "    return angle\n",
    "\n",
    "\n",
    "def set_move_ccw(gain):\n",
    "    motor_a.duty_u16(gain)\n",
    "    motor_b.duty_u16(0)\n",
    "    \n",
    "\n",
    "def set_move_cw(gain):\n",
    "    motor_a.duty_u16(0)\n",
    "    motor_b.duty_u16(gain)\n",
    "    \n",
    "\n",
    "def set_no_move():\n",
    "    motor_a.duty_u16(0)\n",
    "    motor_b.duty_u16(0)\n",
    "    \n",
    "\n",
    "# Move to start\n",
    "while get_angle() > 0.5:\n",
    "    set_move_ccw(20_000)\n",
    "    \n",
    "set_no_move()\n",
    "\n",
    "time.sleep_ms(500)\n",
    "\n",
    "deadline = time.ticks_add(time.ticks_ms(), 30 * 1000)\n",
    "\n",
    "revs = 0\n",
    "prev_angle = 0\n",
    "\n",
    "# Max duty cycle\n",
    "set_move_ccw(65500)\n",
    "    \n",
    "while True:\n",
    "    if time.ticks_diff(deadline, time.ticks_ms()) <= 0:\n",
    "        break\n",
    "    \n",
    "    angle = get_angle()\n",
    "    \n",
    "    if angle < prev_angle:\n",
    "        revs += 1\n",
    "    \n",
    "    prev_angle = angle\n",
    "    \n",
    "    time.sleep_us(100)\n",
    "    \n",
    "print(revs)"
   ]
  },
  {
   "cell_type": "code",
   "execution_count": 64,
   "id": "2c31a99a",
   "metadata": {},
   "outputs": [
    {
     "name": "stdout",
     "output_type": "stream",
     "text": [
      "b'0\\r\\n'\n"
     ]
    }
   ],
   "source": [
    "pyb = pyboard.Pyboard('/dev/tty.usbmodem1101')\n",
    "pyb.enter_raw_repl()\n",
    "\n",
    "output = pyb.execfile('servo_controller.py')\n",
    "\n",
    "pyb.exit_raw_repl()\n",
    "pyb.close()\n",
    "\n",
    "print(output)\n",
    "\n",
    "# 22 revs in 30 seconds => 44 RPM"
   ]
  },
  {
   "cell_type": "code",
   "execution_count": null,
   "id": "8aedb084",
   "metadata": {},
   "outputs": [],
   "source": []
  }
 ],
 "metadata": {
  "kernelspec": {
   "display_name": "Python 3 (ipykernel)",
   "language": "python",
   "name": "python3"
  },
  "language_info": {
   "codemirror_mode": {
    "name": "ipython",
    "version": 3
   },
   "file_extension": ".py",
   "mimetype": "text/x-python",
   "name": "python",
   "nbconvert_exporter": "python",
   "pygments_lexer": "ipython3",
   "version": "3.10.1"
  }
 },
 "nbformat": 4,
 "nbformat_minor": 5
}
